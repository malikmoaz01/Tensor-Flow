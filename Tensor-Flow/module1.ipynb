{
 "cells": [
  {
   "cell_type": "code",
   "execution_count": null,
   "metadata": {},
   "outputs": [],
   "source": [
    "\n",
    "import tensorflow as tf \n",
    "print(tf.version)"
   ]
  },
  {
   "cell_type": "code",
   "execution_count": null,
   "metadata": {},
   "outputs": [],
   "source": [
    "# Tensors (Datatypes )\n",
    "string = tf.Variable(\"This is TensorFlow \" ,  tf.string)\n",
    "print(string)\n",
    "number1 = tf.Variable(32 , tf.int32)\n",
    "number2 = tf.Variable(1.2 , tf.float32)\n",
    "print(number1)\n",
    "print(number2)"
   ]
  },
  {
   "cell_type": "code",
   "execution_count": null,
   "metadata": {},
   "outputs": [],
   "source": [
    "# Shapes concept in Tensor Flow \n",
    "shape1 = tf.Variable([\"One\" , \"Two\"] , tf.string)\n",
    "print(shape1.shape) \n",
    "shape2 = tf.Variable([[\"One\" , \"Two\"]] , tf.string)\n",
    "print(shape2.shape) \n",
    "shape3 = tf.Variable([[[\"One\" , \"Two\" , \"Three\"] , [\"Four\" , \"Five\" , \"Six\"]]]  , tf.string)\n",
    "print(shape3.shape) \n"
   ]
  },
  {
   "cell_type": "code",
   "execution_count": null,
   "metadata": {},
   "outputs": [],
   "source": [
    "# Reshaping the Tensors \n",
    "shape4 = tf.ones([4,2,3])\n",
    "print(shape4)\n",
    "shape5 = tf.reshape(shape4 , [3,-1])\n",
    "print(shape5)\n",
    "# Since shape4 originally contains 6 elements (1 * 2 * 3 = 6), when reshaping it to [3, -1], TensorFlow calculates the size of the second dimension so that the total number of elements remains 6. Thus, -1 is calculated as 2 (because 3 * 2 = 6). The new shape of shape5 becomes [3, 2]."
   ]
  },
  {
   "cell_type": "code",
   "execution_count": 27,
   "metadata": {},
   "outputs": [
    {
     "name": "stdout",
     "output_type": "stream",
     "text": [
      "Tensor value:\n",
      " [[1. 1. 1.]\n",
      " [1. 1. 1.]]\n"
     ]
    }
   ],
   "source": [
    "import tensorflow as tf\n",
    "\n",
    "# Define a tensor\n",
    "tensor = tf.ones([2, 3])\n",
    "\n",
    "# You can access the tensor's value directly using .numpy()\n",
    "print(\"Tensor value:\\n\", tensor.numpy())\n"
   ]
  }
 ],
 "metadata": {
  "kernelspec": {
   "display_name": "Python 3",
   "language": "python",
   "name": "python3"
  },
  "language_info": {
   "codemirror_mode": {
    "name": "ipython",
    "version": 3
   },
   "file_extension": ".py",
   "mimetype": "text/x-python",
   "name": "python",
   "nbconvert_exporter": "python",
   "pygments_lexer": "ipython3",
   "version": "3.12.1"
  }
 },
 "nbformat": 4,
 "nbformat_minor": 2
}
